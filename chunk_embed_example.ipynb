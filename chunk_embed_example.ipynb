{
 "cells": [
  {
   "cell_type": "code",
   "execution_count": 11,
   "metadata": {},
   "outputs": [
    {
     "name": "stdout",
     "output_type": "stream",
     "text": [
      "Chunk 1: 'The'\n",
      "Embedding (truncated for brevity): [0.02931361086666584, 0.0304334107786417, -0.0365123488008976, -0.03429287299513817, -0.061385806649923325]...\n",
      "\n",
      "Chunk 2: 'quick'\n",
      "Embedding (truncated for brevity): [0.027496596798300743, -0.05354516580700874, 0.005026268307119608, 0.031086262315511703, -0.059406328946352005]...\n",
      "\n",
      "Chunk 3: 'brown'\n",
      "Embedding (truncated for brevity): [-0.00894855335354805, 0.02825305424630642, 0.012619930319488049, -0.023490628227591515, 0.005010794382542372]...\n",
      "\n",
      "Chunk 4: 'fox'\n",
      "Embedding (truncated for brevity): [-0.04659883305430412, 0.03842528536915779, 0.03153781592845917, -0.03752957656979561, 0.04398935288190842]...\n",
      "\n",
      "Chunk 5: 'jumps'\n",
      "Embedding (truncated for brevity): [-0.0276471134275198, -0.06564764678478241, -0.021444935351610184, -0.003294933820143342, -0.024973997846245766]...\n",
      "\n",
      "Chunk 6: 'over'\n",
      "Embedding (truncated for brevity): [-0.05605585500597954, 0.00016141800733748823, -0.007929446175694466, -0.026906868442893028, -0.027771281078457832]...\n",
      "\n",
      "Chunk 7: 'the'\n",
      "Embedding (truncated for brevity): [0.02931361086666584, 0.0304334107786417, -0.0365123488008976, -0.03429287299513817, -0.061385806649923325]...\n",
      "\n",
      "Chunk 8: 'lazy'\n",
      "Embedding (truncated for brevity): [-0.015089539811015129, 0.05205793306231499, 0.030051130801439285, 0.011745665222406387, -0.004658199846744537]...\n",
      "\n",
      "Chunk 9: 'dog'\n",
      "Embedding (truncated for brevity): [0.021568063646554947, 0.04319678246974945, -0.021951045840978622, -0.011885516345500946, 0.012583015486598015]...\n",
      "\n"
     ]
    }
   ],
   "source": [
    "from langchain.embeddings import HuggingFaceEmbeddings\n",
    "from langchain.text_splitter import CharacterTextSplitter\n",
    "\n",
    "model_name = \"sentence-transformers/all-mpnet-base-v2\"  # Choose your model\n",
    "embeddings = HuggingFaceEmbeddings(model_name=model_name)\n",
    "\n",
    "text = \"The quick brown fox jumps over the lazy dog\"\n",
    "\n",
    "# Split text into chunks using CharacterTextSplitter with space as separator\n",
    "text_splitter = CharacterTextSplitter(separator=\" \", chunk_size=5, chunk_overlap=0)  \n",
    "chunks = text_splitter.split_text(text)\n",
    "\n",
    "# Get embeddings for each chunk\n",
    "chunk_embeddings = [embeddings.embed_query(chunk) for chunk in chunks]\n",
    "\n",
    "# Print the chunks and their embeddings in a cleaner format\n",
    "for i, (chunk, embedding) in enumerate(zip(chunks, chunk_embeddings)):\n",
    "    print(f\"Chunk {i+1}: '{chunk}'\")\n",
    "    print(f\"Embedding (truncated for brevity): {embedding[:5]}...\\n\")  # Show first 5 values\n"
   ]
  }
 ],
 "metadata": {
  "kernelspec": {
   "display_name": "base",
   "language": "python",
   "name": "python3"
  },
  "language_info": {
   "codemirror_mode": {
    "name": "ipython",
    "version": 3
   },
   "file_extension": ".py",
   "mimetype": "text/x-python",
   "name": "python",
   "nbconvert_exporter": "python",
   "pygments_lexer": "ipython3",
   "version": "3.11.9"
  }
 },
 "nbformat": 4,
 "nbformat_minor": 2
}
