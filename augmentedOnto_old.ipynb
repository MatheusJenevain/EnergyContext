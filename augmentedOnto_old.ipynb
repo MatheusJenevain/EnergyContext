{
 "cells": [
  {
   "cell_type": "code",
   "execution_count": 1,
   "metadata": {},
   "outputs": [],
   "source": [
    "import os\n",
    "import pandas as pd\n",
    "import numpy as np\n",
    "from owlready2 import get_ontology\n",
    "from datasets import load_dataset\n",
    "from sklearn.feature_extraction.text import TfidfVectorizer\n",
    "from sklearn.metrics.pairwise import cosine_similarity\n",
    "from transformers import pipeline\n",
    "from langchain_community.document_loaders import UnstructuredPDFLoader\n",
    "from langchain_text_splitters import RecursiveCharacterTextSplitter\n",
    "from langchain_community.embeddings import OllamaEmbeddings\n",
    "from langchain_community.vectorstores import Chroma\n",
    "from langchain.prompts import ChatPromptTemplate, PromptTemplate\n",
    "from langchain_core.output_parsers import StrOutputParser\n",
    "from langchain_community.chat_models import ChatOllama\n",
    "from langchain.retrievers.multi_query import MultiQueryRetriever\n",
    "from langchain_core.runnables import RunnablePassthrough\n",
    "from rouge import Rouge\n",
    "from nltk.translate.bleu_score import sentence_bleu, SmoothingFunction\n",
    "from rouge_score import rouge_scorer\n",
    "from sentence_transformers import SentenceTransformer, util\n"
   ]
  },
  {
   "cell_type": "code",
   "execution_count": 2,
   "metadata": {},
   "outputs": [
    {
     "name": "stdout",
     "output_type": "stream",
     "text": [
      "Loading ontology...\n"
     ]
    }
   ],
   "source": [
    "# Define file path\n",
    "directory = 'D:\\GitHub\\Projetos\\Mestrado\\EnergyContext\\ontology\\imports'\n",
    "filename = 'oec-extracted.owl'\n",
    "file_path = os.path.join(directory, filename)\n",
    "\n",
    "print(\"Loading ontology...\")\n",
    "# Load the ontology\n",
    "onto = get_ontology(\"file://\" + file_path).load()\n",
    "\n",
    "# Define the IRIs (unique identifiers) for properties and individual in the ontology\n",
    "term_sent_by_property_iri = \"http://www.semanticweb.org/matheus/ontologies/2023/10/oec-extracted#termSentBy\"\n",
    "actor_coal_iri = \"http://www.semanticweb.org/matheus/ontologies/2023/10/oec-extracted#actorCoal\"\n",
    "actor_has_context_property_iri = \"http://www.semanticweb.org/matheus/ontologies/2023/10/oec-extracted#actorHasContext\"\n",
    "\n",
    "# Get the ontology elements (properties and individual) using their IRIs\n",
    "term_sent_by_property = onto.search_one(iri=term_sent_by_property_iri)\n",
    "actor_coal = onto.search_one(iri=actor_coal_iri)\n",
    "actor_has_context_property = onto.search_one(iri=actor_has_context_property_iri)\n"
   ]
  },
  {
   "cell_type": "code",
   "execution_count": 3,
   "metadata": {},
   "outputs": [
    {
     "name": "stderr",
     "output_type": "stream",
     "text": [
      "OllamaEmbeddings: 100%|██████████| 3/3 [00:11<00:00,  3.79s/it]\n"
     ]
    }
   ],
   "source": [
    "# Load the PDF file\n",
    "local_path = r\"D:\\GitHub\\Projetos\\Mestrado\\EnergyContext\\pdf\\appendixa_0.pdf\"\n",
    "if local_path:\n",
    "    loader = UnstructuredPDFLoader(file_path=local_path)\n",
    "    data = loader.load()\n",
    "else:\n",
    "    raise FileNotFoundError(\"Upload a PDF file\")\n",
    "\n",
    "# Split PDF into chunks\n",
    "text_splitter = RecursiveCharacterTextSplitter(chunk_size=7500, chunk_overlap=100)\n",
    "chunks = text_splitter.split_documents(data)\n",
    "\n",
    "# Create the vector database using the Ollama Embeddings model\n",
    "vector_db = Chroma.from_documents(\n",
    "    documents=chunks, \n",
    "    embedding=OllamaEmbeddings(model=\"nomic-embed-text\", show_progress=True),\n",
    "    collection_name=\"local-rag\"\n",
    ")\n"
   ]
  },
  {
   "cell_type": "code",
   "execution_count": 4,
   "metadata": {},
   "outputs": [],
   "source": [
    "# Define a prompt template for querying the context\n",
    "QUERY_PROMPT = PromptTemplate(\n",
    "    input_variables=[\"question\"],\n",
    "    template=\"\"\"answer_prompt_template = You are an expert in electrial engineering.\n",
    "    Using only the information provided in the context, choose the best answer, and only that, to the following question:\n",
    "    Original question: {question}\"\"\")\n",
    "local_model = \"mistral\"\n",
    "llm = ChatOllama(model=local_model)\n",
    "retriever = MultiQueryRetriever.from_llm(\n",
    "    vector_db.as_retriever(), \n",
    "    llm,\n",
    "    prompt=QUERY_PROMPT\n",
    ")\n"
   ]
  },
  {
   "cell_type": "code",
   "execution_count": 5,
   "metadata": {},
   "outputs": [],
   "source": [
    "# Define a template for formatting the question and context\n",
    "template = \"\"\"Answer the question based ONLY on the following context with ONLY one answer:\n",
    "{context}\n",
    "Question: {question}\n",
    "\"\"\"\n",
    "\n",
    "prompt = ChatPromptTemplate.from_template(template)\n",
    "\n",
    "# Set up a chain to retrieve relevant context, format the question and answer using the template, and generate a response using the language model\n",
    "chain = (\n",
    "    {\"context\": retriever, \"question\": RunnablePassthrough()}\n",
    "    | prompt\n",
    "    | llm\n",
    "    | StrOutputParser()\n",
    ")\n"
   ]
  },
  {
   "cell_type": "code",
   "execution_count": 6,
   "metadata": {},
   "outputs": [
    {
     "ename": "NameError",
     "evalue": "name 'term_sent_by_property' is not defined",
     "output_type": "error",
     "traceback": [
      "\u001b[1;31m---------------------------------------------------------------------------\u001b[0m",
      "\u001b[1;31mNameError\u001b[0m                                 Traceback (most recent call last)",
      "Cell \u001b[1;32mIn[6], line 9\u001b[0m\n\u001b[0;32m      6\u001b[0m individuals_to_update \u001b[38;5;241m=\u001b[39m []\n\u001b[0;32m      8\u001b[0m \u001b[38;5;66;03m# First Loop: Collect Individuals to Update\u001b[39;00m\n\u001b[1;32m----> 9\u001b[0m \u001b[38;5;28;01mif\u001b[39;00m term_sent_by_property \u001b[38;5;129;01mand\u001b[39;00m actor_coal \u001b[38;5;129;01mand\u001b[39;00m actor_has_context_property:\n\u001b[0;32m     10\u001b[0m     \u001b[38;5;28;01mfor\u001b[39;00m individual \u001b[38;5;129;01min\u001b[39;00m onto\u001b[38;5;241m.\u001b[39mindividuals():\n\u001b[0;32m     11\u001b[0m         \u001b[38;5;28;01mif\u001b[39;00m term_sent_by_property \u001b[38;5;129;01min\u001b[39;00m individual\u001b[38;5;241m.\u001b[39mget_properties():\n",
      "\u001b[1;31mNameError\u001b[0m: name 'term_sent_by_property' is not defined"
     ]
    }
   ],
   "source": [
    "# Define default ontology path for saving (use raw string or double backslashes)\n",
    "default_save_path = r'D:\\GitHub\\Projetos\\Mestrado\\EnergyContext\\ontology\\imports\\updated_oec-extracted.owl'\n",
    "file_path = r'D:\\GitHub\\Projetos\\Mestrado\\EnergyContext\\ontology\\imports\\oec-extracted.owl'\n",
    "\n",
    "# List to store individual IRIs to be updated\n",
    "individuals_to_update = []\n",
    "\n",
    "# First Loop: Collect Individuals to Update\n",
    "if term_sent_by_property and actor_coal and actor_has_context_property:\n",
    "    for individual in onto.individuals():\n",
    "        if term_sent_by_property in individual.get_properties():\n",
    "            term_sent_by_values = getattr(individual, term_sent_by_property.python_name)\n",
    "            if actor_coal in term_sent_by_values:\n",
    "                # Ensure termLexiconString is a list\n",
    "                if hasattr(individual, \"termLexiconString\"):\n",
    "                    if not isinstance(individual.termLexiconString, list):\n",
    "                        individual.termLexiconString = [individual.termLexiconString]\n",
    "                individuals_to_update.append(individual.iri) \n",
    "\n",
    "# Second Loop: Perform Question-Answering and Update Ontology\n",
    "with onto:   \n",
    "    for individual_iri in individuals_to_update:\n",
    "        try: \n",
    "            individual = onto.search_one(iri=individual_iri)\n",
    "            if not individual:\n",
    "                print(f\"Warning: Individual with IRI {individual_iri} not found.\")\n",
    "                continue  # Skip to the next individual if not found\n",
    "\n",
    "            if hasattr(individual, \"termLexiconString\"):\n",
    "                term_lexicon_string_value = getattr(individual, \"termLexiconString\")\n",
    "                if isinstance(term_lexicon_string_value, list):\n",
    "                    term_lexicon_string_value = \" \".join(term_lexicon_string_value)\n",
    "\n",
    "                # Check if termLexiconString is empty after joining\n",
    "                if term_lexicon_string_value.strip():  \n",
    "                    lexicon_question = \"What is \" + term_lexicon_string_value + \"?\"\n",
    "                    answer = chain.invoke(lexicon_question)\n",
    "                    print(\"Question:\", lexicon_question)\n",
    "                    print(term_lexicon_string_value, \":\", answer)\n",
    "                    \n",
    "\n",
    "                    if not hasattr(individual, 'termMeaningString'):\n",
    "                        individual.termMeaningString = [] # Create an empty list for the data property if it doesn't exist\n",
    "                    existing_meanings = getattr(individual, 'termMeaningString')\n",
    "\n",
    "                    # Check if the answer already exists in termMeaningString\n",
    "                    if answer not in existing_meanings:\n",
    "                        # Update the termMeaningString property\n",
    "                        individual.termMeaningString.append(answer)\n",
    "                    else:\n",
    "                        print(f\"Answer already exists for {term_lexicon_string_value}. Skipping.\")\n",
    "                else:\n",
    "                    print(\" termLexiconString is empty after joining\")\n",
    "            else:\n",
    "                print(\" termLexiconString: Not found\")\n",
    "        except Exception as e:  # Catch any unexpected errors\n",
    "            print(f\"Error processing individual {individual_iri}: {e}\")\n",
    "\n",
    "\n",
    "# Save the updated ontology (only once after all updates)\n",
    "onto.save(file_path)  \n"
   ]
  }
 ],
 "metadata": {
  "kernelspec": {
   "display_name": "base",
   "language": "python",
   "name": "python3"
  },
  "language_info": {
   "codemirror_mode": {
    "name": "ipython",
    "version": 3
   },
   "file_extension": ".py",
   "mimetype": "text/x-python",
   "name": "python",
   "nbconvert_exporter": "python",
   "pygments_lexer": "ipython3",
   "version": "3.11.9"
  }
 },
 "nbformat": 4,
 "nbformat_minor": 2
}
