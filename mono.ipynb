{
 "cells": [
  {
   "cell_type": "code",
   "execution_count": 1,
   "metadata": {},
   "outputs": [],
   "source": [
    "import os\n",
    "import pandas as pd\n",
    "import numpy as np\n",
    "from owlready2 import get_ontology\n",
    "from datasets import load_dataset\n",
    "from sklearn.feature_extraction.text import TfidfVectorizer\n",
    "from sklearn.metrics.pairwise import cosine_similarity\n",
    "from transformers import pipeline"
   ]
  },
  {
   "cell_type": "code",
   "execution_count": 2,
   "metadata": {},
   "outputs": [],
   "source": [
    "\n",
    "# Load the question answering pipeline\n",
    "question_answerer = pipeline(\"question-answering\", model=\"distilbert-base-uncased-distilled-squad\")\n",
    "\n",
    "# Load the dataset\n",
    "dataset = load_dataset(\"Open-Orca/OpenOrca\")\n",
    "\n",
    "# Extract contexts and turn them into a DataFrame\n",
    "contexts = dataset[\"train\"][\"response\"]\n",
    "df = pd.DataFrame({'context': contexts})\n",
    "\n",
    "# Retrieve relevant contexts using TfidfVectorizer\n",
    "tfidf_vectorizer = TfidfVectorizer(max_features=50000)\n",
    "tfidf_matrix = tfidf_vectorizer.fit_transform(df['context'])\n",
    "\n",
    "# Filter contexts for relevance and length\n",
    "def is_relevant_context(context, keywords):\n",
    "    return any(keyword.lower() in context.lower() for keyword in keywords)"
   ]
  },
  {
   "cell_type": "code",
   "execution_count": 3,
   "metadata": {},
   "outputs": [
    {
     "name": "stdout",
     "output_type": "stream",
     "text": [
      "Loading ontology...\n"
     ]
    }
   ],
   "source": [
    "\n",
    "# Define file path-\n",
    "directory = 'D:\\GitHub\\Projetos\\Mestrado\\EnergyContext\\ontology\\imports'\n",
    "filename = 'oec-extracted.owl'\n",
    "file_path = os.path.join(directory, filename)\n",
    "\n",
    "print(\"Loading ontology...\")\n",
    "# Load the ontology\n",
    "onto = get_ontology(\"file://\" + file_path).load()"
   ]
  },
  {
   "cell_type": "code",
   "execution_count": 4,
   "metadata": {},
   "outputs": [],
   "source": [
    "# Define the IRIs for the properties and the individual\n",
    "term_sent_by_property_iri = \"http://www.semanticweb.org/matheus/ontologies/2023/10/oec-extracted#termSentBy\"\n",
    "actor_coal_iri = \"http://www.semanticweb.org/matheus/ontologies/2023/10/oec-extracted#actorCoal\"\n",
    "actor_has_context_property_iri = \"http://www.semanticweb.org/matheus/ontologies/2023/10/oec-extracted#actorHasContext\"\n",
    "\n",
    "# Search for the properties and the individual in the ontology\n",
    "term_sent_by_property = onto.search_one(iri=term_sent_by_property_iri)\n",
    "actor_coal = onto.search_one(iri=actor_coal_iri)\n",
    "actor_has_context_property = onto.search_one(iri=actor_has_context_property_iri)"
   ]
  },
  {
   "cell_type": "code",
   "execution_count": 5,
   "metadata": {},
   "outputs": [
    {
     "name": "stdout",
     "output_type": "stream",
     "text": [
      "Individual: D:\\GitHub\\Projetos\\Mestrado\\EnergyContext\\ontology\\imports\\oec-extracted.ExchangedTermNetMetering\n",
      "Answer: hydroelectricity\n",
      "Individual: D:\\GitHub\\Projetos\\Mestrado\\EnergyContext\\ontology\\imports\\oec-extracted.ExchangedTermStorage\n",
      "Answer: hydropower\n"
     ]
    }
   ],
   "source": [
    "# Check if the properties and individual exist\n",
    "if term_sent_by_property and actor_coal and actor_has_context_property:\n",
    "    # List to store individuals with 'termSentBy' set to 'actorCoal'\n",
    "    individuals_with_term_sent_by_actor_coal = []\n",
    "\n",
    "    # Iterate through all individuals in the ontology\n",
    "    for individual in onto.individuals():\n",
    "        # Check if the individual has the property 'termSentBy'\n",
    "        if term_sent_by_property in individual.get_properties():\n",
    "            # Retrieve the values of 'termSentBy'\n",
    "            term_sent_by_values = getattr(individual, term_sent_by_property.python_name)\n",
    "            # Check if 'actorCoal' is in the values of 'termSentBy'\n",
    "            if actor_coal in term_sent_by_values:\n",
    "                individuals_with_term_sent_by_actor_coal.append(individual)\n",
    "\n",
    "    #print(\"Individuals where 'termSentBy' is 'actorCoal':\")\n",
    "    for individual in individuals_with_term_sent_by_actor_coal:\n",
    "        print(f\"Individual: {individual}\")\n",
    "\n",
    "        # Check if the individual has the 'termLexiconString' data property\n",
    "        if hasattr(individual, \"termLexiconString\"):\n",
    "            # Retrieve the value of 'termLexiconString'\n",
    "            term_lexicon_string_value = getattr(individual, \"termLexiconString\")\n",
    "            \n",
    "            # Check if the value is a list and convert it to a string\n",
    "            if isinstance(term_lexicon_string_value, list):\n",
    "                term_lexicon_string_value = \" \".join(term_lexicon_string_value)\n",
    "            \n",
    "            # Check if the value is empty or not\n",
    "            if term_lexicon_string_value:\n",
    "                # Transform the question into the same vector space\n",
    "                question = f'What is the definition of {term_lexicon_string_value} in the context of renreable energy?'\n",
    "                keywords = [\"solar energy\", \"renewable energy\", \"photovoltaic\"]\n",
    "                question_vector = tfidf_vectorizer.transform([question])\n",
    "\n",
    "                # Compute cosine similarity between the question and all contexts\n",
    "                cosine_similarities = cosine_similarity(question_vector, tfidf_matrix).flatten()\n",
    "\n",
    "                # Set a high threshold for cosine similarity\n",
    "                threshold = 0.1\n",
    "                top_n_indices = np.where(cosine_similarities > threshold)[0]\n",
    "                top_contexts = df.iloc[top_n_indices]['context'].drop_duplicates().tolist()\n",
    "\n",
    "                # Filter for relevant contexts\n",
    "                relevant_contexts = [context for context in top_contexts if is_relevant_context(context, keywords)]\n",
    "\n",
    "                \"\"\"\n",
    "                # Print the selected contexts for debugging\n",
    "                print(\"Relevant contexts:\")\n",
    "                for i, context in enumerate(relevant_contexts[:10]):  # Print only the top 10 for brevity\n",
    "                    print(f\"Context {i+1}: {context}\\n\")\"\"\"\n",
    "\n",
    "                # Concatenate the top relevant contexts into a single string\n",
    "                combined_contexts = \" \".join(relevant_contexts)\n",
    "\n",
    "                # Perform the question answering on the combined contexts\n",
    "                result = question_answerer(question=question, context=combined_contexts)\n",
    "\n",
    "                # Print the result for debugging\n",
    "                #print(\"QA Result:\", result)\n",
    "\n",
    "                # Extract the answer span from the context using the provided indices\n",
    "                answer_start = result['start']\n",
    "                answer_end = result['end']\n",
    "                answer = combined_contexts[answer_start:answer_end].strip()\n",
    "                if hasattr(individual, \"termMeaningString\"):\n",
    "                        # Retrieve the current value of 'termMeaningString'\n",
    "                        term_meaning_string_value = getattr(individual, \"termMeaningString\")\n",
    "                        \n",
    "                        # Check if it's a list, if not make it a list\n",
    "                        if not isinstance(term_meaning_string_value, list):\n",
    "                            term_meaning_string_value = [term_meaning_string_value]\n",
    "                        \n",
    "                        # Append the new answer\n",
    "                        term_meaning_string_value.append(answer)\n",
    "\n",
    "                        # Set the updated value back to 'termMeaningString'\n",
    "                        setattr(individual, \"termMeaningString\", term_meaning_string_value)\n",
    "                else:\n",
    "                        print(\"  termMeaningString: Not found\")\n",
    "                # Print the answer\n",
    "                print(\"Answer:\", answer)\n",
    " \n",
    "            else:\n",
    "                print(\"  termLexiconString is empty\")\n",
    "        else:\n",
    "            print(\"  termLexiconString: Not found\")\n",
    "\n",
    "else:\n",
    "    print(\"One or more of the properties or the individual could not be found in the ontology.\")"
   ]
  }
 ],
 "metadata": {
  "kernelspec": {
   "display_name": "base",
   "language": "python",
   "name": "python3"
  },
  "language_info": {
   "codemirror_mode": {
    "name": "ipython",
    "version": 3
   },
   "file_extension": ".py",
   "mimetype": "text/x-python",
   "name": "python",
   "nbconvert_exporter": "python",
   "pygments_lexer": "ipython3",
   "version": "3.11.9"
  }
 },
 "nbformat": 4,
 "nbformat_minor": 2
}
