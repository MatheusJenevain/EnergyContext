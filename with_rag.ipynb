{
 "cells": [
  {
   "cell_type": "code",
   "execution_count": 10,
   "metadata": {},
   "outputs": [],
   "source": [
    "from langchain_community.document_loaders import UnstructuredPDFLoader\n",
    "from langchain_text_splitters import RecursiveCharacterTextSplitter\n",
    "from langchain_community.embeddings import OllamaEmbeddings\n",
    "from langchain_community.vectorstores import Chroma\n",
    "from langchain.prompts import ChatPromptTemplate, PromptTemplate\n",
    "from langchain_core.output_parsers import StrOutputParser\n",
    "from langchain_community.chat_models import ChatOllama\n",
    "from langchain.retrievers.multi_query import MultiQueryRetriever\n",
    "from langchain_core.runnables import RunnablePassthrough\n",
    "from rouge import Rouge\n",
    "from nltk.translate.bleu_score import sentence_bleu, SmoothingFunction\n",
    "from rouge_score import rouge_scorer\n",
    "from sentence_transformers import SentenceTransformer, util\n",
    "import numpy as np\n"
   ]
  },
  {
   "cell_type": "code",
   "execution_count": 11,
   "metadata": {},
   "outputs": [],
   "source": [
    "local_path = r\"D:\\GitHub\\Projetos\\Mestrado\\EnergyContext\\pdf\\appendixa_0.pdf\"\n",
    "if local_path:\n",
    "    loader = UnstructuredPDFLoader(file_path=local_path)\n",
    "    data = loader.load()\n",
    "else:\n",
    "    raise FileNotFoundError(\"Upload a PDF file\")\n"
   ]
  },
  {
   "cell_type": "code",
   "execution_count": 12,
   "metadata": {},
   "outputs": [],
   "source": [
    "text_splitter = RecursiveCharacterTextSplitter(chunk_size=7500, chunk_overlap=100)\n",
    "chunks = text_splitter.split_documents(data)\n"
   ]
  },
  {
   "cell_type": "code",
   "execution_count": 13,
   "metadata": {},
   "outputs": [
    {
     "name": "stderr",
     "output_type": "stream",
     "text": [
      "OllamaEmbeddings: 100%|██████████| 3/3 [00:08<00:00,  2.70s/it]\n"
     ]
    }
   ],
   "source": [
    "vector_db = Chroma.from_documents(\n",
    "    documents=chunks, \n",
    "    embedding=OllamaEmbeddings(model=\"nomic-embed-text\", show_progress=True),\n",
    "    collection_name=\"local-rag\"\n",
    ")\n"
   ]
  },
  {
   "cell_type": "code",
   "execution_count": 14,
   "metadata": {},
   "outputs": [],
   "source": [
    "'''\n",
    "QUERY_PROMPT = PromptTemplate(\n",
    "    input_variables=[\"question\"],\n",
    "    template=\"\"\"You are an electrical engineer. Your task is to generate five\n",
    "    different versions of the given user question to retrieve relevant documents from\n",
    "    a vector database, and only the database. By generating multiple perspectives on the user question, your\n",
    "    goal is to help the user overcome some of the limitations of the distance-based\n",
    "    similarity search. Provide an answer combining the most important points of these five versions.\n",
    "    Original question: {question}\"\"\"\n",
    ")\n",
    "'''\n",
    "QUERY_PROMPT = PromptTemplate(\n",
    "    input_variables=[\"question\"],\n",
    "    template=\"\"\"You are an electrical engineer. Your task is to generate a response based on the vector database.Your\n",
    "    goal is to help the user overcome some of the limitations of the distance-based\n",
    "    similarity search. Provide an answer as close as possible to what is in the document.\n",
    "    Original question: {question}\"\"\"\n",
    ")\n"
   ]
  },
  {
   "cell_type": "code",
   "execution_count": 15,
   "metadata": {},
   "outputs": [],
   "source": [
    "local_model = \"mistral\"\n",
    "llm = ChatOllama(model=local_model)\n",
    "retriever = MultiQueryRetriever.from_llm(\n",
    "    vector_db.as_retriever(), \n",
    "    llm,\n",
    "    prompt=QUERY_PROMPT\n",
    ")\n"
   ]
  },
  {
   "cell_type": "code",
   "execution_count": 16,
   "metadata": {},
   "outputs": [],
   "source": [
    "template = \"\"\"Answer the question based ONLY on the following context:\n",
    "{context}\n",
    "Question: {question}\n",
    "\"\"\"\n",
    "\n",
    "prompt = ChatPromptTemplate.from_template(template)\n"
   ]
  },
  {
   "cell_type": "code",
   "execution_count": 17,
   "metadata": {},
   "outputs": [],
   "source": [
    "chain = (\n",
    "    {\"context\": retriever, \"question\": RunnablePassthrough()}\n",
    "    | prompt\n",
    "    | llm\n",
    "    | StrOutputParser()\n",
    ")\n"
   ]
  },
  {
   "cell_type": "code",
   "execution_count": 18,
   "metadata": {},
   "outputs": [
    {
     "name": "stderr",
     "output_type": "stream",
     "text": [
      "OllamaEmbeddings: 100%|██████████| 1/1 [00:03<00:00,  3.88s/it]\n",
      "OllamaEmbeddings: 100%|██████████| 1/1 [00:02<00:00,  2.06s/it]\n",
      "OllamaEmbeddings: 100%|██████████| 1/1 [00:02<00:00,  2.07s/it]\n",
      "OllamaEmbeddings: 100%|██████████| 1/1 [00:02<00:00,  2.09s/it]\n",
      "OllamaEmbeddings: 100%|██████████| 1/1 [00:02<00:00,  2.15s/it]\n",
      "OllamaEmbeddings: 100%|██████████| 1/1 [00:02<00:00,  2.12s/it]\n",
      "OllamaEmbeddings: 100%|██████████| 1/1 [00:02<00:00,  2.16s/it]\n",
      "OllamaEmbeddings: 100%|██████████| 1/1 [00:02<00:00,  2.12s/it]\n",
      "OllamaEmbeddings: 100%|██████████| 1/1 [00:02<00:00,  2.11s/it]\n",
      "OllamaEmbeddings: 100%|██████████| 1/1 [00:02<00:00,  2.07s/it]\n",
      "OllamaEmbeddings: 100%|██████████| 1/1 [00:02<00:00,  2.05s/it]\n",
      "OllamaEmbeddings: 100%|██████████| 1/1 [00:02<00:00,  2.06s/it]\n",
      "OllamaEmbeddings: 100%|██████████| 1/1 [00:02<00:00,  2.10s/it]\n",
      "OllamaEmbeddings: 100%|██████████| 1/1 [00:02<00:00,  2.07s/it]\n",
      "OllamaEmbeddings: 100%|██████████| 1/1 [00:02<00:00,  2.14s/it]\n",
      "OllamaEmbeddings: 100%|██████████| 1/1 [00:02<00:00,  2.07s/it]\n",
      "OllamaEmbeddings: 100%|██████████| 1/1 [00:02<00:00,  2.20s/it]\n",
      "OllamaEmbeddings: 100%|██████████| 1/1 [00:02<00:00,  2.09s/it]\n",
      "OllamaEmbeddings: 100%|██████████| 1/1 [00:02<00:00,  2.08s/it]\n"
     ]
    },
    {
     "data": {
      "text/plain": [
       "' The document provided does not explicitly mention specific technologies used to provide indoor environmental comfort, but it does mention Combined Heat and Power (CHP) systems as an efficient approach for generating power and thermal energy from a single fuel source, which can help maintain indoor comfort by providing both heating and cooling. However, for more detailed information about specific HVAC (Heating, Ventilating, and Air Conditioning) technologies used for indoor environmental control, one might need to refer to specialized resources or literature on HVAC systems and building design.'"
      ]
     },
     "execution_count": 18,
     "metadata": {},
     "output_type": "execute_result"
    }
   ],
   "source": [
    "chain.invoke(\"What are technologies used to provide indoor environmental comfort?\")"
   ]
  },
  {
   "cell_type": "code",
   "execution_count": 19,
   "metadata": {},
   "outputs": [
    {
     "name": "stderr",
     "output_type": "stream",
     "text": [
      "OllamaEmbeddings: 100%|██████████| 1/1 [00:03<00:00,  3.46s/it]\n",
      "OllamaEmbeddings: 100%|██████████| 1/1 [00:03<00:00,  3.75s/it]\n",
      "OllamaEmbeddings: 100%|██████████| 1/1 [00:03<00:00,  3.75s/it]\n",
      "OllamaEmbeddings: 100%|██████████| 1/1 [00:02<00:00,  2.06s/it]\n",
      "OllamaEmbeddings: 100%|██████████| 1/1 [00:02<00:00,  2.06s/it]\n",
      "OllamaEmbeddings: 100%|██████████| 1/1 [00:02<00:00,  2.06s/it]\n",
      "OllamaEmbeddings: 100%|██████████| 1/1 [00:02<00:00,  2.11s/it]\n",
      "OllamaEmbeddings: 100%|██████████| 1/1 [00:02<00:00,  2.10s/it]\n",
      "OllamaEmbeddings: 100%|██████████| 1/1 [00:02<00:00,  2.13s/it]\n",
      "OllamaEmbeddings: 100%|██████████| 1/1 [00:03<00:00,  3.48s/it]\n",
      "OllamaEmbeddings: 100%|██████████| 1/1 [00:02<00:00,  2.07s/it]\n",
      "OllamaEmbeddings: 100%|██████████| 1/1 [00:02<00:00,  2.08s/it]\n",
      "OllamaEmbeddings: 100%|██████████| 1/1 [00:03<00:00,  3.49s/it]\n",
      "OllamaEmbeddings: 100%|██████████| 1/1 [00:02<00:00,  2.07s/it]\n",
      "OllamaEmbeddings: 100%|██████████| 1/1 [00:02<00:00,  2.06s/it]\n",
      "OllamaEmbeddings: 100%|██████████| 1/1 [00:02<00:00,  2.06s/it]\n",
      "OllamaEmbeddings: 100%|██████████| 1/1 [00:02<00:00,  2.29s/it]\n",
      "OllamaEmbeddings: 100%|██████████| 1/1 [00:02<00:00,  2.06s/it]\n",
      "OllamaEmbeddings: 100%|██████████| 1/1 [00:02<00:00,  2.12s/it]\n",
      "OllamaEmbeddings: 100%|██████████| 1/1 [00:02<00:00,  2.29s/it]\n",
      "OllamaEmbeddings: 100%|██████████| 1/1 [00:02<00:00,  2.08s/it]\n",
      "OllamaEmbeddings: 100%|██████████| 1/1 [00:03<00:00,  3.74s/it]\n",
      "OllamaEmbeddings: 100%|██████████| 1/1 [00:04<00:00,  4.68s/it]\n",
      "OllamaEmbeddings: 100%|██████████| 1/1 [00:02<00:00,  2.06s/it]\n",
      "OllamaEmbeddings: 100%|██████████| 1/1 [00:02<00:00,  2.09s/it]\n",
      "OllamaEmbeddings: 100%|██████████| 1/1 [00:02<00:00,  2.06s/it]\n",
      "OllamaEmbeddings: 100%|██████████| 1/1 [00:02<00:00,  2.09s/it]\n",
      "OllamaEmbeddings: 100%|██████████| 1/1 [00:02<00:00,  2.06s/it]\n",
      "OllamaEmbeddings: 100%|██████████| 1/1 [00:02<00:00,  2.12s/it]\n",
      "OllamaEmbeddings: 100%|██████████| 1/1 [00:02<00:00,  2.07s/it]\n",
      "OllamaEmbeddings: 100%|██████████| 1/1 [00:02<00:00,  2.10s/it]\n",
      "OllamaEmbeddings: 100%|██████████| 1/1 [00:02<00:00,  2.16s/it]\n",
      "OllamaEmbeddings: 100%|██████████| 1/1 [00:02<00:00,  2.07s/it]\n",
      "OllamaEmbeddings: 100%|██████████| 1/1 [00:02<00:00,  2.05s/it]\n",
      "OllamaEmbeddings: 100%|██████████| 1/1 [00:02<00:00,  2.05s/it]\n",
      "OllamaEmbeddings: 100%|██████████| 1/1 [00:02<00:00,  2.14s/it]\n",
      "OllamaEmbeddings: 100%|██████████| 1/1 [00:02<00:00,  2.05s/it]\n",
      "OllamaEmbeddings: 100%|██████████| 1/1 [00:03<00:00,  3.74s/it]\n",
      "OllamaEmbeddings: 100%|██████████| 1/1 [00:02<00:00,  2.09s/it]\n",
      "OllamaEmbeddings: 100%|██████████| 1/1 [00:02<00:00,  2.07s/it]\n",
      "OllamaEmbeddings: 100%|██████████| 1/1 [00:02<00:00,  2.08s/it]\n",
      "OllamaEmbeddings: 100%|██████████| 1/1 [00:02<00:00,  2.17s/it]\n",
      "OllamaEmbeddings: 100%|██████████| 1/1 [00:02<00:00,  2.05s/it]\n",
      "OllamaEmbeddings: 100%|██████████| 1/1 [00:02<00:00,  2.10s/it]\n",
      "OllamaEmbeddings: 100%|██████████| 1/1 [00:03<00:00,  3.77s/it]\n",
      "OllamaEmbeddings: 100%|██████████| 1/1 [00:02<00:00,  2.06s/it]\n",
      "OllamaEmbeddings: 100%|██████████| 1/1 [00:02<00:00,  2.06s/it]\n",
      "OllamaEmbeddings: 100%|██████████| 1/1 [00:02<00:00,  2.09s/it]\n",
      "OllamaEmbeddings: 100%|██████████| 1/1 [00:02<00:00,  2.26s/it]\n",
      "OllamaEmbeddings: 100%|██████████| 1/1 [00:02<00:00,  2.06s/it]\n",
      "OllamaEmbeddings: 100%|██████████| 1/1 [00:02<00:00,  2.11s/it]\n",
      "OllamaEmbeddings: 100%|██████████| 1/1 [00:03<00:00,  3.50s/it]\n",
      "OllamaEmbeddings: 100%|██████████| 1/1 [00:03<00:00,  3.73s/it]\n"
     ]
    },
    {
     "name": "stdout",
     "output_type": "stream",
     "text": [
      "Predictions: [' Megawatt (MW) is a measure of power, or rate of energy flow, typically used for electric power in watts (W). On the other hand, Megawatt-hour (MWh) is a measure of energy, representing the amount of energy delivered over one hour at a rate of one megawatt. So, 1 MWh is equal to the energy supplied by 1 MW operating for one hour.', ' The Annual Energy Outlook is prepared by the U.S. Department of Energy’s Energy Information Administration (EIA).', \" The Clean Air Act (CAA) is a U.S. law that defines the Environmental Protection Agency's responsibilities for protecting and improving the nation's air quality and the stratospheric ozone layer. It was last significantly amended in 1990, with minor changes made since then. The CAA sets National Ambient Air Quality Standards for six common air pollutants known as criteria air pollutants, which include particle pollution, ground-level ozone, carbon monoxide, sulfur oxides, nitrogen oxides, and lead.\", ' An Electric Generating Unit (EGU) refers to a facility that converts energy into electrical power, typically by using a prime mover (such as a gas turbine, steam turbine, or hydro turbine) to spin a generator. The electricity produced can be distributed to various users and loads through the power grid. In some contexts, an EGU may also include renewable energy sources such as wind turbines, solar panels, or biomass generators.', ' Electricity Dispatch Models optimize the dispatch of a system by simulating the dynamic operation of the electric system on a least-cost system dispatch basis. These models optimize the dispatch of the system based on the variable costs of each resource and any operational constraints that have been entered into the model. They are helpful in assessing which existing plants are displaced, and they are used in short-term planning and regulatory support.', ' The U.S. Environmental Protection Agency maintains the Emissions & Generation Resource Integrated Database.', ' Examples of energy efficiency policies include:\\n\\n1. Building codes that require energy-efficient construction materials and appliances in new buildings.\\n2. Incentives for homeowners to install energy-efficient windows, insulation, or solar panels.\\n3. Standards for energy efficiency in industrial equipment, such as motors, pumps, and lighting systems.\\n4. Energy Star labels on appliances that meet specific energy efficiency standards.\\n5. Policies that encourage the use of public transportation, carpooling, or electric vehicles to reduce energy consumption associated with personal transportation.\\n6. Smart grid technologies that improve the management of electricity distribution and reduce losses.\\n7. Energy-saving programs for businesses, such as providing rebates for energy-efficient equipment upgrades or implementing energy audits to identify areas for improvement.\\n8. Energy efficiency training and education programs for consumers to help them make more informed decisions about energy use in their homes and daily lives.\\n9. Policies that promote the adoption of renewable energy sources, such as solar panels or wind turbines, which are often more energy-efficient than traditional fossil fuel power plants.\\n10. Energy conservation initiatives, such as turning off lights when not in use, adjusting thermostats to conserve energy during certain hours, or using power strips to minimize energy waste from electronic devices.', ' In the context provided, ISOs (Independent System Operators) are not explicitly defined. However, in the energy sector, an Independent System Operator is a non-profit organization that manages the transmission of electricity on a regional electric grid. They ensure the reliable operation of the power system and facilitate the wholesale buying and selling of electrical energy and ancillary services. This definition is derived from the context provided, as there are mentions of \"electric generating units\" and \"electricity dispatch models.\"', ' Power pools, also known as Regional Transmission Organizations (RTO) or Independent System Operators (ISO), are organizations responsible for managing the flow of electric power in a region. They operate the high-voltage grid and ensure that electricity is generated, transmitted, and distributed efficiently and reliably. These organizations facilitate the trading of electricity among their members, set rules for operating the grid, and maintain the balance between supply and demand. Power pools help to optimize the use of resources, reduce costs, and enhance the reliability of the power system in their respective regions.', ' The Public Utilities Commission (PUC) or Public Service Commission (PSC) is a regulatory body that oversees the utility industries, such as electricity, natural gas, and sometimes telecommunications. They are responsible for ensuring fair and reasonable rates for consumers, promoting competition within the industry, and maintaining reliable service while also considering public safety and environmental concerns. Their roles may include setting regulations, monitoring compliance, resolving disputes between utilities and customers, and encouraging energy efficiency and sustainable practices within the utility sector.', ' Electricity Dispatch Models simulate the dynamic operation of the electric system, generally on a least-cost system dispatch. These models optimize the dispatch of the system based on the variable costs of each resource and any operational constraints that have been entered into the model. They are helpful in assessing which existing plants are displaced. These models are also used in short-term planning and regulatory support.']\n"
     ]
    },
    {
     "name": "stderr",
     "output_type": "stream",
     "text": [
      "d:\\ProgramData\\anaconda3\\Lib\\site-packages\\huggingface_hub\\file_download.py:1132: FutureWarning: `resume_download` is deprecated and will be removed in version 1.0.0. Downloads always resume when possible. If you want to force a new download, use `force_download=True`.\n",
      "  warnings.warn(\n"
     ]
    },
    {
     "name": "stdout",
     "output_type": "stream",
     "text": [
      "Average BLEU Score: 0.14 (low)\n",
      "Average ROUGE-1 Score: 0.39 (mid)\n",
      "Average ROUGE-2 Score: 0.28 (mid)\n",
      "Average ROUGE-L Score: 0.35 (mid)\n",
      "Average Semantic Similarity: 0.72 (high)\n"
     ]
    },
    {
     "data": {
      "text/plain": [
       "'\\n# Print the answers that the model returns\\nfor query, prediction in zip(test_queries, evaluation_results[\\'predictions\\']):\\n    print(f\"Query: {query}\")\\n    print(f\"Prediction: {prediction}\")'"
      ]
     },
     "execution_count": 19,
     "metadata": {},
     "output_type": "execute_result"
    }
   ],
   "source": [
    "from nltk.translate.bleu_score import sentence_bleu, SmoothingFunction\n",
    "from rouge_score import rouge_scorer\n",
    "from sentence_transformers import SentenceTransformer, util\n",
    "import numpy as np\n",
    "import pandas as pd\n",
    "\n",
    "# Define a set of handwritten test queries and expected answers\n",
    "test_queries = [\n",
    "    \"What is the relationship between Megawatt (MW) and Megawatt-hour (MWh)?\",\n",
    "    \"Who prepared the Annual Energy Outlook?\",\n",
    "    \"What is the Clean Air Act?\",\n",
    "    \"What is an Electric Generating Unit?\",\n",
    "    \"How Electricity Dispatch Models optimize the dispatch of a system?\",\n",
    "    \"Who maintains the Emissions & Generation Resource Integrated Database?\",\n",
    "    \"Give me examples of Energy Efficiency\",\n",
    "    \"What are ISOs?\",\n",
    "    \"What are Power Pools?\",\n",
    "    \"What does the Public Utilities Commission or Public Service Commission do?\",\n",
    "    \"What does Electricity Dispatch Models simulate?\",\n",
    "]\n",
    "\n",
    "expected_answers = [\n",
    "    \"A megawatt (MW) is a unit of power representing the rate at which energy is used or generated, while a megawatt-hour (MWh) is a unit of energy representing the total amount of energy used or generated over an hour.\",\n",
    "    \"The U.S. Department of Energy’s Energy Information Administration (EIA)\",\n",
    "    \"The Clean Air Act (CAA) is the law that defines the U.S. Environmental Protection Agency’s responsibilities for protecting and improving the nation's air quality and the stratospheric ozone layer\",\n",
    "    \"An entity that supplies electricity to the electricity system relying on a variety of fuels.\",\n",
    "    \"These models optimize the dispatch of the system based on the variable costs of each resource and any operational constraints that have been entered into the model.\",\n",
    "    \"The U.S. Environmental Protection Agency\",\n",
    "    \"High-efficiency appliances; efficient lighting; high-efficiency heating, ventilating and air conditioning systems or control modifications; efficient building design; advanced electric motor drives; combined heat and power; and heat recovery systems.\",\n",
    "    \"Independent System Operators\",\n",
    "    \"A power pool is an association of two or more interconnected electric systems that agree to coordinate operations and planning for improved reliability and efficiencies.\",\n",
    "    \"Regulates the rates and services of a public utility.\",\n",
    "    \"Simulate the dynamic operation of the electric system, generally on a least-cost system dispatch\",\n",
    "]\n",
    "\n",
    "# Function to categorize scores into low, mid, and high\n",
    "def categorize_score(score, thresholds):\n",
    "    if score < thresholds['low']:\n",
    "        return 'low'\n",
    "    elif score < thresholds['mid']:\n",
    "        return 'mid'\n",
    "    else:\n",
    "        return 'high'\n",
    "\n",
    "# Function to evaluate the RAG system using BLEU, ROUGE, and semantic similarity\n",
    "def evaluate_rag_system(chain, test_queries, expected_answers):\n",
    "    # Get predictions from the RAG system\n",
    "    predictions = [chain.invoke(query) for query in test_queries]\n",
    "    print(\"Predictions:\", predictions)  # Debug: Print predictions to see what the system returns\n",
    "\n",
    "    # Initialize metrics\n",
    "    bleu_scores = []\n",
    "    rouge_scores = []\n",
    "    semantic_similarities = []\n",
    "\n",
    "    # Initialize ROUGE scorer\n",
    "    rouge = rouge_scorer.RougeScorer(['rouge1', 'rouge2', 'rougeL'], use_stemmer=True)\n",
    "    \n",
    "    # Load a sentence transformer model for semantic similarity\n",
    "    model = SentenceTransformer('all-MiniLM-L6-v2')\n",
    "    \n",
    "    for pred, ref in zip(predictions, expected_answers):\n",
    "        # Calculate BLEU score\n",
    "        bleu_score = sentence_bleu([ref.split()], pred.split(), smoothing_function=SmoothingFunction().method1)\n",
    "        bleu_scores.append(bleu_score)\n",
    "        \n",
    "        # Calculate ROUGE scores\n",
    "        rouge_score = rouge.score(ref, pred)\n",
    "        rouge_scores.append(rouge_score)\n",
    "        \n",
    "        # Calculate semantic similarity\n",
    "        pred_embedding = model.encode(pred, convert_to_tensor=True)\n",
    "        ref_embedding = model.encode(ref, convert_to_tensor=True)\n",
    "        semantic_similarity = util.pytorch_cos_sim(pred_embedding, ref_embedding).item()\n",
    "        semantic_similarities.append(semantic_similarity)\n",
    "    \n",
    "    # Calculate average scores\n",
    "    avg_bleu = np.mean(bleu_scores)\n",
    "    avg_rouge1 = np.mean([score['rouge1'].fmeasure for score in rouge_scores])\n",
    "    avg_rouge2 = np.mean([score['rouge2'].fmeasure for score in rouge_scores])\n",
    "    avg_rougeL = np.mean([score['rougeL'].fmeasure for score in rouge_scores])\n",
    "    avg_semantic_similarity = np.mean(semantic_similarities)\n",
    "\n",
    "    # Define thresholds for categorizing scores\n",
    "    thresholds = {\n",
    "        'bleu': {'low': 0.2, 'mid': 0.5},\n",
    "        'rouge1': {'low': 0.2, 'mid': 0.5},\n",
    "        'rouge2': {'low': 0.1, 'mid': 0.3},\n",
    "        'rougeL': {'low': 0.2, 'mid': 0.5},\n",
    "        'semantic': {'low': 0.5, 'mid': 0.7}\n",
    "    }\n",
    "\n",
    "    # Categorize the average scores\n",
    "    bleu_category = categorize_score(avg_bleu, thresholds['bleu'])\n",
    "    rouge1_category = categorize_score(avg_rouge1, thresholds['rouge1'])\n",
    "    rouge2_category = categorize_score(avg_rouge2, thresholds['rouge2'])\n",
    "    rougeL_category = categorize_score(avg_rougeL, thresholds['rougeL'])\n",
    "    semantic_category = categorize_score(avg_semantic_similarity, thresholds['semantic'])\n",
    "\n",
    "    # Print results\n",
    "    print(f\"Average BLEU Score: {avg_bleu:.2f} ({bleu_category})\")\n",
    "    print(f\"Average ROUGE-1 Score: {avg_rouge1:.2f} ({rouge1_category})\")\n",
    "    print(f\"Average ROUGE-2 Score: {avg_rouge2:.2f} ({rouge2_category})\")\n",
    "    print(f\"Average ROUGE-L Score: {avg_rougeL:.2f} ({rougeL_category})\")\n",
    "    print(f\"Average Semantic Similarity: {avg_semantic_similarity:.2f} ({semantic_category})\")\n",
    "\n",
    "    return {\n",
    "        'avg_bleu': avg_bleu,\n",
    "        'avg_rouge1': avg_rouge1,\n",
    "        'avg_rouge2': avg_rouge2,\n",
    "        'avg_rougeL': avg_rougeL,\n",
    "        'avg_semantic_similarity': avg_semantic_similarity,\n",
    "        'categories': {\n",
    "            'bleu': bleu_category,\n",
    "            'rouge1': rouge1_category,\n",
    "            'rouge2': rouge2_category,\n",
    "            'rougeL': rougeL_category,\n",
    "            'semantic': semantic_category\n",
    "        },\n",
    "        'predictions': predictions  # Return the predictions\n",
    "    }\n",
    "\n",
    "# Assuming 'chain' is your RAG system already defined\n",
    "# For example, chain.invoke(\"Your query\") should return the answer from the RAG system\n",
    "evaluation_results = evaluate_rag_system(chain, test_queries, expected_answers)\n",
    "\n",
    "# Create a DataFrame with the results\n",
    "df = pd.DataFrame({\n",
    "    'Query': test_queries,\n",
    "    'Expected Answer': expected_answers,\n",
    "    'Predicted Answer': evaluation_results['predictions']\n",
    "})\n",
    "\n",
    "# Save the DataFrame to an Excel file\n",
    "df.to_excel('evaluation_results.xlsx', index=False)\n",
    "\n",
    "\"\"\"\n",
    "# Print the answers that the model returns\n",
    "for query, prediction in zip(test_queries, evaluation_results['predictions']):\n",
    "    print(f\"Query: {query}\")\n",
    "    print(f\"Prediction: {prediction}\")\"\"\"\n"
   ]
  }
 ],
 "metadata": {
  "kernelspec": {
   "display_name": "base",
   "language": "python",
   "name": "python3"
  },
  "language_info": {
   "codemirror_mode": {
    "name": "ipython",
    "version": 3
   },
   "file_extension": ".py",
   "mimetype": "text/x-python",
   "name": "python",
   "nbconvert_exporter": "python",
   "pygments_lexer": "ipython3",
   "version": "3.11.9"
  }
 },
 "nbformat": 4,
 "nbformat_minor": 2
}
