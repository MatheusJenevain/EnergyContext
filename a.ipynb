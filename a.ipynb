{
 "cells": [
  {
   "cell_type": "code",
   "execution_count": 2,
   "metadata": {},
   "outputs": [
    {
     "name": "stdout",
     "output_type": "stream",
     "text": [
      " Here are the terms and their respective definitions from the provided list:\n",
      "\n",
      "1. Average production per miner per hour: The ratio of the total production at a mining operation to the total direct labor hours worked at the operation.\n",
      "2. Average Recovery Percentage (coal): The percentage of coal that can be recovered from known coal reserves at reporting mines, weight averaged for all mines in the reported geographic area.\n",
      "3. Average revenue per kilowatthour: The average revenue per kilowatthour of electricity sold by sector (residential, commercial, industrial, or other) and geographic area (State, Census division, and national) is calculated by dividing the total monthly revenue by the corresponding total monthly sales for each sector and geographic area.\n",
      "4. Average stream flow: The rate, usually expressed in cubic feet per second, at which water passes a given point in a stream over a set period of time.\n",
      "5. Average vehicle fuel consumption: A ratio estimate defined as total gallons of fuel consumed by all vehicles divided by (1) the total number of vehicles (for average fuel consumption per vehicle) or (2) the total number of households (for average fuel consumption per household).\n",
      "6. Average vehicle miles traveled: A ratio estimate defined as total miles traveled by all vehicles, divided by (1) the total number of vehicles (for average miles traveled per vehicle) or (2) the total number of households (for average miles traveled per household).\n",
      "7. Average water conditions: The amount and distribution of precipitation within a drainage basin and the run off conditions present as determined by reviewing the area water supply records over a long period of time.\n",
      "8. Aviation gasoline (finished): A complex mixture of relatively volatile hydrocarbons with or without small quantities of additives, blended to form a fuel suitable for use in aviation reciprocating engines. Fuel specifications are provided in ASTM Specification D 910 and Military Specification MIL-G-5572.\n",
      "9. Aviation gasoline blending components: Naphthas that will be used for blending or compounding into finished aviation gasoline (e.g., straight run gasoline, alkylate, reformate, benzene, toluene, and xylene). Excludes oxygenates (alcohols, ethers), butane, and pentanes plus. Oxygenates are reported as other hydrocarbons, hydrogen, and oxygenates.\n",
      "10. Azimuth angle: The orientation angle relative to north that a solar panel tilts toward: 0° is north, 90° is east, 180° is south, and 270° is west.\n"
     ]
    }
   ],
   "source": [
    "from langchain.embeddings import OllamaEmbeddings\n",
    "from langchain.llms import Ollama\n",
    "from langchain.chains.question_answering import load_qa_chain\n",
    "from langchain.document_loaders import WebBaseLoader\n",
    "\n",
    "# Load the web page content\n",
    "loader = WebBaseLoader(\"https://www.eia.gov/tools/glossary/\")\n",
    "documents = loader.load()\n",
    "\n",
    "# Initialize Ollama LLM and embeddings\n",
    "llm = Ollama(model=\"mistral:7b-instruct\")\n",
    "embeddings = OllamaEmbeddings(model=\"nomic-embed-text\")\n",
    "\n",
    "# Create the question-answering chain\n",
    "chain = load_qa_chain(llm, chain_type=\"stuff\")\n",
    "\n",
    "# Ask a question\n",
    "query = \"\"\"What are all the terms and definitions\n",
    "present on all the glossary pages of the website? The pattern is term:definition. For example, ACBM:  Acronym for asbestos-containing building material.\"\"\"\n",
    "answer = chain.run(input_documents=documents, question=query)\n",
    "\n",
    "print(answer)\n"
   ]
  },
  {
   "cell_type": "code",
   "execution_count": 3,
   "metadata": {},
   "outputs": [
    {
     "name": "stdout",
     "output_type": "stream",
     "text": [
      "All terms and definitions saved to glossary_terms.xlsx\n"
     ]
    }
   ],
   "source": [
    "from langchain.embeddings import OllamaEmbeddings\n",
    "from langchain.llms import Ollama\n",
    "from langchain.chains.question_answering import load_qa_chain\n",
    "from langchain.document_loaders import WebBaseLoader\n",
    "import re\n",
    "import pandas as pd\n",
    "\n",
    "# Load the web page content\n",
    "loader = WebBaseLoader(\"https://www.eia.gov/tools/glossary/\")\n",
    "documents = loader.load()\n",
    "\n",
    "# Create a function to extract terms and definitions\n",
    "def extract_term_definitions(text):\n",
    "    terms = []\n",
    "    # Regular expression to find \"term: meaning\" patterns (more flexible)\n",
    "    pattern = r'(\\w+[\\w\\s]*[^:]+):\\s*([^\\n]+)'\n",
    "    matches = re.finditer(pattern, text)\n",
    "    for match in matches:\n",
    "        term = match.group(1).strip()\n",
    "        definition = match.group(2).strip()\n",
    "        terms.append((term, definition))\n",
    "    return terms\n",
    "\n",
    "# Extract terms and definitions from all documents\n",
    "all_terms = []\n",
    "for doc in documents:\n",
    "    terms = extract_term_definitions(doc.page_content)\n",
    "    all_terms.extend(terms)\n",
    "\n",
    "# Convert the list of tuples to a DataFrame\n",
    "df = pd.DataFrame(all_terms, columns=[\"Term\", \"Definition\"])\n",
    "\n",
    "# Save to an Excel file\n",
    "df.to_excel(\"glossary_terms.xlsx\", index=False)\n",
    "\n",
    "print(\"All terms and definitions saved to glossary_terms.xlsx\")\n"
   ]
  }
 ],
 "metadata": {
  "kernelspec": {
   "display_name": "base",
   "language": "python",
   "name": "python3"
  },
  "language_info": {
   "codemirror_mode": {
    "name": "ipython",
    "version": 3
   },
   "file_extension": ".py",
   "mimetype": "text/x-python",
   "name": "python",
   "nbconvert_exporter": "python",
   "pygments_lexer": "ipython3",
   "version": "3.11.9"
  }
 },
 "nbformat": 4,
 "nbformat_minor": 2
}
